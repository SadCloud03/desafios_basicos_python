{
 "cells": [
  {
   "cell_type": "code",
   "execution_count": null,
   "id": "dbef2b0c",
   "metadata": {},
   "outputs": [],
   "source": [
    "nobre_apellido = \"Ivan portillo \""
   ]
  },
  {
   "cell_type": "code",
   "execution_count": null,
   "id": "4afc1011",
   "metadata": {},
   "outputs": [
    {
     "name": "stdout",
     "output_type": "stream",
     "text": [
      "4\n",
      "banana\n"
     ]
    }
   ],
   "source": [
    "fruta = \"naranja\" #se va a mostrar todo al mismo tiempo, pero si saco el print solo va a mostrar banana\n",
    "#print(fruta)\n",
    "\n",
    "cantidad_de_fruta = 4   #ejecuta linea por lienea\n",
    "print(cantidad_de_fruta)\n",
    "\n",
    "fruta = \"banana\"\n",
    "print(fruta)\n",
    "\n",
    "#se puede imprimir dos cosas a la vez y se muestran uno al lado del otro\n",
    "print(cantidad_de_fruta, fruta)\n"
   ]
  },
  {
   "cell_type": "code",
   "execution_count": 5,
   "id": "5d0e8799",
   "metadata": {},
   "outputs": [
    {
     "name": "stdout",
     "output_type": "stream",
     "text": [
      "ivan 22 fdo de la mora\n"
     ]
    }
   ],
   "source": [
    "# CHALLENGE UNO:\n",
    "#CREA TRES VARIABLES CON TU NOMBRE, EDAD Y CIUDAD. IMPRIME EN UNA SOLA LINEA USANDO PRINT()\n",
    "\n",
    "nombre = \"ivan\"\n",
    "edad = 22\n",
    "ciudad = \"fdo de la mora\"\n",
    "\n",
    "print(nombre, edad, ciudad)\n"
   ]
  },
  {
   "cell_type": "code",
   "execution_count": null,
   "id": "19b0ec23",
   "metadata": {},
   "outputs": [
    {
     "name": "stdout",
     "output_type": "stream",
     "text": [
      "tengo 50000 en mi billetera, el costo total es de 20000 y tel vuelto seria 30000\n"
     ]
    }
   ],
   "source": [
    "#datos del problema:\n",
    "producto1 = \"papa frita\"\n",
    "costo_producto = 12000\n",
    "producto2 = \"coca\"\n",
    "costo_producto2 = 8000\n",
    "billetera = 50000\n",
    "\n",
    "#resultados de las transacciones\n",
    "costo_producto_total = costo_producto + costo_producto2\n",
    "vuelto_de_compra = billetera - costo_producto_total\n",
    "\n",
    "#mostrar en pantalla los resultados:\n",
    "print(f\"tengo {billetera} en mi billetera, el costo total es de {costo_producto_total} y tel vuelto seria {vuelto_de_compra}\")\n"
   ]
  },
  {
   "cell_type": "code",
   "execution_count": null,
   "id": "9c329507",
   "metadata": {},
   "outputs": [
    {
     "name": "stdout",
     "output_type": "stream",
     "text": [
      "la cantidad de frutas restantes es de 18\n"
     ]
    }
   ],
   "source": [
    "#CHALLENGUE \n",
    "# Suma: asignar dos números en dos variables diferentes cantidad_de_manzanas y cantidad_de_naranjas. \n",
    "# Luego sumar ambas variables en cantidad_de_frutas. Imprimir la última variable.\n",
    "\n",
    "#Resta: asignar un valor numérico a la variable frutas_vendidas. \n",
    "# Luego, asignar la resta entre cantidad_de_frutas y frutas_vendidas a la variable frutas_restantes. \n",
    "# Imprimir la última variable.\n",
    "\n",
    "cantidad_de_manzanas = 10\n",
    "cantidad_de_naranjas = 15\n",
    "\n",
    "cantidad_de_frutas = cantidad_de_manzanas + cantidad_de_naranjas\n",
    "\n",
    "frutas_vendidas = 7\n",
    "frutas_restantes = cantidad_de_frutas - frutas_vendidas\n",
    "\n",
    "print(f\"la cantidad de frutas restantes es de {frutas_restantes}\")\n"
   ]
  },
  {
   "cell_type": "code",
   "execution_count": null,
   "id": "97ae85ec",
   "metadata": {},
   "outputs": [],
   "source": [
    "#CHALLENGE\n",
    "#Asignar el nombre y el apellido de tu compañera/o a las variables nombre y apellido. \n",
    "# Luego, imprimir una frase, utilizando las variables.\n",
    "\n",
    "#datos de mi compañero:\n",
    "Nombre = \"Eduardo\"\n",
    "Apellido = \"Medina\"\n",
    "\n",
    "#Mostrar en la pantalla sus datos:\n",
    "print(f\"el nombre de mi compañero es {Nombre} y su apellido es {Apellido}\")"
   ]
  },
  {
   "cell_type": "code",
   "execution_count": 11,
   "id": "bc009732",
   "metadata": {},
   "outputs": [
    {
     "name": "stdout",
     "output_type": "stream",
     "text": [
      "el nombre de la persona es ivan portillo  y su edad es 23\n"
     ]
    }
   ],
   "source": [
    "#input\n",
    "\n",
    "nombre_apellido = str(input(\"escriba su nombre y su apellido: \"))\n",
    "\n",
    "edad = int(input(\"ingrese su edad\"))\n",
    "\n",
    "print(f\"el nombre de la persona es {nombre_apellido} y su edad es {edad}\")"
   ]
  },
  {
   "cell_type": "code",
   "execution_count": null,
   "id": "627b06c4",
   "metadata": {},
   "outputs": [
    {
     "name": "stdout",
     "output_type": "stream",
     "text": [
      "la suma de los numeros que ingresaste es: 38\n"
     ]
    }
   ],
   "source": [
    "#CHALLENGE\n",
    "#Solicitar al usuario ingresar dos números y almacenarlos en dos variables. \n",
    "# Luego, imprimir la suma de los dos números.\n",
    "\n",
    "#pedir al usuario ingresar numeros y almacenarlos en dos variables\n",
    "num1 = int(input(\"ingrese un numero: \"))\n",
    "num2 = int(input(\"escriba otro numero: \"))\n",
    "\n",
    "#imprimir la suma de los dos numeros:\n",
    "suma_numeros = num1 + num2\n",
    "print(f\"la suma de los numeros que ingresaste es: {suma_numeros}\")\n",
    "\n"
   ]
  },
  {
   "cell_type": "code",
   "execution_count": null,
   "id": "82446a91",
   "metadata": {},
   "outputs": [
    {
     "name": "stdout",
     "output_type": "stream",
     "text": [
      "ivan esta saludando a zara\n",
      "None\n"
     ]
    }
   ],
   "source": [
    "#def saludo(per1, per2):\n",
    "#   print(f\"{per1} esta saludando a {per2}\")\n",
    "\n",
    "#print(saludo(\"ivan\",\"zara\"))\n",
    "\n",
    "#ejemplo de clase\n",
    "def saludo():\n",
    "    nombre = input(\"ingrese su nombre\")\n",
    "    edad = input(\"ingrese su edad\")\n",
    "    print(f\"hola, soy {nombre} y tengo {edad} años.\")\n",
    "\n",
    "saludo()"
   ]
  },
  {
   "cell_type": "code",
   "execution_count": 19,
   "id": "57980693",
   "metadata": {},
   "outputs": [
    {
     "name": "stdout",
     "output_type": "stream",
     "text": [
      "perfecto vamos a comer tallarin\n",
      "perfecto vamos a comer huevo duro\n",
      "perfecto vamos a comer piedras\n"
     ]
    }
   ],
   "source": [
    "#CHALLENGE \n",
    "#CREAR UNA FUNCION DE UN PROCESO QUE SE LES OCURRA QUE TENGA VARIOS PASOS\n",
    "#EJECUTAR LA FUNCION 3 VECES\n",
    "\n",
    "#proceso que tenga varios pasos = elegir que comer\n",
    "\n",
    "#elavorar una funcion para pedir dicha comida:\n",
    "def eleccion_comida():\n",
    "    comida = input(\"hijo que te gustaria comer?: \") #no necesito especificar que sea un dato STR si es que input devuelve luego STR\n",
    "    print(f\"perfecto vamos a comer {comida}\")\n",
    "\n",
    "#ejecutarla 3 veces:\n",
    "eleccion_comida()\n",
    "eleccion_comida()\n",
    "eleccion_comida()\n",
    "#maldita sea, como que tengo que entender literlamente lo que dice el challenge, la gran 7 lo unico que no extrañe del bootcamp, bajom...\n"
   ]
  },
  {
   "cell_type": "code",
   "execution_count": null,
   "id": "0329f6d0",
   "metadata": {},
   "outputs": [
    {
     "name": "stdout",
     "output_type": "stream",
     "text": [
      "cortar tomate\n",
      "Mezclar tartara\n",
      "colocamos en el plato\n",
      "cortar cebolla\n",
      "Mezclar de ajo\n",
      "colocamos en el bowl\n"
     ]
    }
   ],
   "source": [
    "#funciones:\n",
    "\n",
    "def preparar_ensalada(ingrediente1, recipiente, salsa):\n",
    "    print(f\"cortar {ingrediente1}\")\n",
    "    print(f\"Mezclar {salsa}\")\n",
    "    print(f\"colocamos en el {recipiente}\")\n",
    "\n",
    "preparar_ensalada('tomate', 'plato', 'tartara')\n",
    "\n",
    "preparar_ensalada('cebolla', 'bowl', 'de ajo')\n",
    "\n",
    "\n"
   ]
  },
  {
   "cell_type": "code",
   "execution_count": null,
   "id": "9094e628",
   "metadata": {},
   "outputs": [
    {
     "name": "stdout",
     "output_type": "stream",
     "text": [
      "Entonces te interesaria una laptop hp, con un procesador i5\n",
      "y estarias necesitando una ram de 8 y un espacio de almacenamiento de 500gb\n"
     ]
    }
   ],
   "source": [
    "#CHALLENGE\n",
    "#ESCRIBIR UNA FUNCION QUE NOS PREGUNTE LAS CARACTERISTICAS DE UN ELEMENTO A COMPRAR \n",
    "#E IMPRIMA EL ELEMENTO CON SUS CARACTERISTICAS\n",
    "\n",
    "#las partes pequeñas del problema: comprar una laptop, caracteristicas de la laptop\n",
    "\n",
    "#funcion de compra de laptop:\n",
    "def comprar_laptop(proveedor, procesador, ram, espacio_almacenamiento):\n",
    "    print(f\"Entonces te interesaria una laptop {proveedor}, con un procesador {procesador}\")\n",
    "    print(f\"y estarias necesitando una ram de {ram} y un espacio de almacenamiento de {espacio_almacenamiento}\")\n",
    "\n",
    "\n",
    "#preguntas al usuario:\n",
    "proveedor = input(\"de que marca es la laptop que quiere?: \")\n",
    "procesador = input(\"que procesador te interesa que tenga?: \")\n",
    "ram = input(\"cuantos gigas de ram necesitas que tenga?: \")\n",
    "espacio_almacenamiento = input(\"cuanto espacio de almacenamiento necesitas?: \")\n",
    "\n",
    "\n",
    "#llamar a la funcion:\n",
    "comprar_laptop(proveedor, procesador, ram, espacio_almacenamiento)"
   ]
  }
 ],
 "metadata": {
  "kernelspec": {
   "display_name": "Python 3",
   "language": "python",
   "name": "python3"
  },
  "language_info": {
   "codemirror_mode": {
    "name": "ipython",
    "version": 3
   },
   "file_extension": ".py",
   "mimetype": "text/x-python",
   "name": "python",
   "nbconvert_exporter": "python",
   "pygments_lexer": "ipython3",
   "version": "3.12.10"
  }
 },
 "nbformat": 4,
 "nbformat_minor": 5
}
